{
 "cells": [
  {
   "cell_type": "code",
   "execution_count": null,
   "metadata": {
    "vscode": {
     "languageId": "plaintext"
    }
   },
   "outputs": [],
   "source": [
    "import streamlit as st\n",
    "from nltk.stem import WordNetLemmatizer\n",
    "from nltk.tokenize import word_tokenize\n",
    "import nltk\n",
    "import string\n",
    "\n",
    "nltk.download('punkt')\n",
    "nltk.download('wordnet')\n",
    "nltk.download('omw-1.4')\n",
    "\n",
    "lemmatizer = WordNetLemmatizer()\n",
    "\n",
    "def clean_and_lemmatize(text):\n",
    "    text = text.lower()\n",
    "    text = text.translate(str.maketrans('', '', string.punctuation))\n",
    "    words = word_tokenize(text)\n",
    "    lemmas = [lemmatizer.lemmatize(word) for word in words]\n",
    "    return ' '.join(lemmas)\n",
    "\n",
    "st.markdown(page_bg_img, unsafe_allow_html=True)\n",
    "st.title(\"*TEXT LEMMATIZER* :book:\")\n",
    "\n",
    "if 'show_input' not in st.session_state:\n",
    "    st.session_state.show_input = False\n",
    "if not st.session_state.show_input:\n",
    "    st.write(\"Спасибо, что выбрали именно меня!\")\n",
    "    if st.button('Ввод текста'):\n",
    "        st.session_state.show_input = True\n",
    "else:\n",
    "    text = st.text_area('Введи текст для лемматизации')\n",
    "    if st.button('Лемматизировать'):\n",
    "        result = clean_and_lemmatize(text)\n",
    "        st.write('Результат лемматизации:')\n",
    "        st.text_area('Лемматизированный текст', value=result, height=150, key='lemm_result', disabled=True)\n"
   ]
  }
 ],
 "metadata": {
  "colab": {
   "provenance": []
  },
  "kernelspec": {
   "display_name": "Python 3",
   "name": "python3"
  },
  "language_info": {
   "name": "python"
  }
 },
 "nbformat": 4,
 "nbformat_minor": 0
}
